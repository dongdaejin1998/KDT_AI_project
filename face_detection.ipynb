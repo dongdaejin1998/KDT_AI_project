{
 "cells": [
  {
   "cell_type": "code",
   "execution_count": 2,
   "metadata": {},
   "outputs": [],
   "source": [
    "from facenet_pytorch import MTCNN\n",
    "import torch\n",
    "import numpy as np\n",
    "import cv2\n",
    "from PIL import Image, ImageDraw\n",
    "from IPython import display"
   ]
  },
  {
   "cell_type": "code",
   "execution_count": 3,
   "metadata": {},
   "outputs": [
    {
     "name": "stdout",
     "output_type": "stream",
     "text": [
      "Running on device: cpu\n"
     ]
    }
   ],
   "source": [
    "device = torch.device('cuda:0' if torch.cuda.is_available() else 'cpu')\n",
    "print('Running on device: {}'.format(device))"
   ]
  },
  {
   "cell_type": "code",
   "execution_count": 4,
   "metadata": {},
   "outputs": [],
   "source": [
    "mtcnn = MTCNN(keep_all=True, device=device,select_largest=False)"
   ]
  },
  {
   "cell_type": "code",
   "execution_count": 7,
   "metadata": {},
   "outputs": [],
   "source": [
    "def mosaic(src, ratio=0.1):\n",
    "    small = cv2.resize(src, None, fx=ratio, fy=ratio, interpolation=cv2.INTER_NEAREST)\n",
    "    return cv2.resize(small, src.shape[:2][::-1], interpolation=cv2.INTER_NEAREST)"
   ]
  },
  {
   "cell_type": "code",
   "execution_count": 8,
   "metadata": {},
   "outputs": [],
   "source": [
    "def mosaic_area(src, x, y, width, height, ratio=0.1):\n",
    "    dst = src.copy()\n",
    "    dst[y:y + height, x:x + width] = mosaic(dst[y:y + height, x:x + width], ratio)\n",
    "    return dst"
   ]
  },
  {
   "cell_type": "code",
   "execution_count": 9,
   "metadata": {},
   "outputs": [
    {
     "name": "stdout",
     "output_type": "stream",
     "text": [
      "얼굴 인식에 실패하였습니다\n",
      "얼굴 인식에 실패하였습니다\n"
     ]
    }
   ],
   "source": [
    "webcam = cv2.VideoCapture(0)\n",
    "\n",
    "\n",
    "w = round(webcam.get(cv2.CAP_PROP_FRAME_WIDTH))\n",
    "h = round(webcam.get(cv2.CAP_PROP_FRAME_HEIGHT))\n",
    "fps = webcam.get(cv2.CAP_PROP_FPS) # 카메라에 따라 값이 정상적, 비정상적\n",
    "\n",
    "fourcc = cv2.VideoWriter_fourcc(*'DIVX')\n",
    "\n",
    "out = cv2.VideoWriter('output.avi', fourcc, fps, (w, h))\n",
    "\n",
    "if not webcam.isOpened():\n",
    "    print(\"Could not open webcam\")\n",
    "    exit()\n",
    "\n",
    "while webcam.isOpened():\n",
    "\n",
    "    status, frame = webcam.read()\n",
    "\n",
    "    boxes,prob=mtcnn.detect(frame,landmarks=False)\n",
    "\n",
    "\n",
    "\n",
    "    \n",
    "    #frame_draw =frame.copy()\n",
    "    if boxes is None:\n",
    "        print(\"얼굴 인식에 실패하였습니다\")\n",
    "        continue\n",
    "    boxes=boxes.astype(int)\n",
    "    max_box=prob.argmax()\n",
    "    #crop_frame=frame_draw[boxes[max_box][1]:boxes[max_box][3],boxes[max_box][0]:boxes[max_box][2]]\n",
    "    frame=mosaic_area(frame,boxes[max_box][0],boxes[max_box][1],boxes[max_box][3]-boxes[max_box][1],boxes[max_box][2]-boxes[max_box][0])\n",
    "    \n",
    "\n",
    "    \n",
    "    # 웹캠으로 찰영한 영상을 저장하기\n",
    "    # cv2.VideoWriter 객체 생성, 기존에 받아온 속성값 입력\n",
    "    if status:\n",
    "\n",
    "        out.write(frame)\n",
    "\n",
    "        cv2.imshow(\"test\", frame)\n",
    "        \n",
    "#        cv2.imshow('crop_face',crop_frame)\n",
    "\n",
    "    \n",
    "    if cv2.waitKey(1) & 0xFF == ord('q'):\n",
    "        break\n",
    "\n",
    "\n",
    "\n",
    "webcam.release()\n",
    "out.release()\n",
    "cv2.destroyAllWindows()"
   ]
  },
  {
   "cell_type": "code",
   "execution_count": 6,
   "metadata": {},
   "outputs": [
    {
     "ename": "KeyboardInterrupt",
     "evalue": "",
     "output_type": "error",
     "traceback": [
      "\u001b[1;31m---------------------------------------------------------------------------\u001b[0m",
      "\u001b[1;31mKeyboardInterrupt\u001b[0m                         Traceback (most recent call last)",
      "Cell \u001b[1;32mIn[6], line 1\u001b[0m\n\u001b[1;32m----> 1\u001b[0m webcam \u001b[39m=\u001b[39m cv2\u001b[39m.\u001b[39;49mVideoCapture(\u001b[39m0\u001b[39;49m)\n\u001b[0;32m      4\u001b[0m \u001b[39mif\u001b[39;00m \u001b[39mnot\u001b[39;00m webcam\u001b[39m.\u001b[39misOpened():\n\u001b[0;32m      5\u001b[0m     \u001b[39mprint\u001b[39m(\u001b[39m\"\u001b[39m\u001b[39mCould not open webcam\u001b[39m\u001b[39m\"\u001b[39m)\n",
      "\u001b[1;31mKeyboardInterrupt\u001b[0m: "
     ]
    }
   ],
   "source": [
    "webcam = cv2.VideoCapture(0)\n",
    "\n",
    "\n",
    "if not webcam.isOpened():\n",
    "    print(\"Could not open webcam\")\n",
    "    exit()\n",
    "\n",
    "while webcam.isOpened():\n",
    "    status, frame = webcam.read()\n",
    "\n",
    "    boxes,prob,points=mtcnn.detect(frame,landmarks=True)\n",
    "    \n",
    "    frame_draw =frame.copy()\n",
    "    \n",
    "    if boxes is None:\n",
    "        print(\"얼굴 인식에 실패하였습니다\")\n",
    "        continue\n",
    "        \n",
    "    boxes=boxes.astype(int)\n",
    "    points=points.astype(int)\n",
    "\n",
    "    max_box=prob.argmax()\n",
    "    crop_frame=frame_draw[boxes[max_box][1]:boxes[max_box][3],boxes[max_box][0]:boxes[max_box][2]]\n",
    "    \n",
    "    ly = (points[0][3][1]+points[0][3][1])//2\n",
    "    y = boxes[max_box][3]-boxes[max_box][1]\n",
    "    lip = frame_draw[ly-y//8:ly+y//8, points[0][3][0] : points[0][4][0]]\n",
    "\n",
    "    cv2.circle(frame, (points[0][3][0], points[0][3][1]), 5, (0, 0, 255), -1)\n",
    "\n",
    "    \n",
    "\n",
    "    \n",
    "    if status:\n",
    "        \n",
    "        cv2.imshow(\"test\", frame)\n",
    "        cv2.imshow('crop_face',crop_frame)\n",
    "        \n",
    "        cv2.imshow('lip',lip)\n",
    "\n",
    "    \n",
    "    if cv2.waitKey(1) & 0xFF == ord('q'):\n",
    "        break\n",
    "\n",
    "webcam.release()\n",
    "cv2.destroyAllWindows()"
   ]
  }
 ],
 "metadata": {
  "kernelspec": {
   "display_name": "programmers",
   "language": "python",
   "name": "python3"
  },
  "language_info": {
   "codemirror_mode": {
    "name": "ipython",
    "version": 3
   },
   "file_extension": ".py",
   "mimetype": "text/x-python",
   "name": "python",
   "nbconvert_exporter": "python",
   "pygments_lexer": "ipython3",
   "version": "3.11.3"
  },
  "orig_nbformat": 4
 },
 "nbformat": 4,
 "nbformat_minor": 2
}
