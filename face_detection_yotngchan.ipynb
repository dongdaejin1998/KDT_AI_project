{
 "cells": [
  {
   "cell_type": "code",
   "execution_count": 1,
   "metadata": {},
   "outputs": [],
   "source": [
    "from facenet_pytorch import MTCNN\n",
    "import torch\n",
    "import numpy as np\n",
    "import cv2\n"
   ]
  },
  {
   "cell_type": "code",
   "execution_count": 2,
   "metadata": {},
   "outputs": [
    {
     "name": "stdout",
     "output_type": "stream",
     "text": [
      "Running on device: cpu\n"
     ]
    }
   ],
   "source": [
    "device = torch.device('cuda:0' if torch.cuda.is_available() else 'cpu')\n",
    "print('Running on device: {}'.format(device))"
   ]
  },
  {
   "cell_type": "code",
   "execution_count": 3,
   "metadata": {},
   "outputs": [],
   "source": [
    "mtcnn = MTCNN(keep_all=True, device=device,select_largest=False)"
   ]
  },
  {
   "cell_type": "code",
   "execution_count": 5,
   "metadata": {
    "tags": []
   },
   "outputs": [
    {
     "name": "stdout",
     "output_type": "stream",
     "text": [
      "가로: 1920.0\n",
      "세로: 1080.0\n",
      "총 프레임수: 9129.0\n",
      "FPS: 29.97002997002997\n"
     ]
    }
   ],
   "source": [
    "cap=cv2.VideoCapture(\"C:/Users/user/Desktop/New_Sample/원천데이터/lip_J_1_F_02_C032_A_010.mp4\")\n",
    "\n",
    "\n",
    "width=cap.get(cv2.CAP_PROP_FRAME_WIDTH)\n",
    "height=cap.get(cv2.CAP_PROP_FRAME_HEIGHT)\n",
    "count=cap.get(cv2.CAP_PROP_FRAME_COUNT)\n",
    "fps=cap.get(cv2.CAP_PROP_FPS)\n",
    "\n",
    "print('가로:',str(width))\n",
    "print('세로:',str(height))\n",
    "print('총 프레임수:',str(count))\n",
    "print('FPS:',str(fps))\n",
    "\n",
    "\n",
    "fourcc = cv2.VideoWriter_fourcc(*'mp4v')\n",
    "out = cv2.VideoWriter('lip_facenet.mp4', fourcc, fps, (96, 96))\n",
    "\n",
    "\n",
    "if not cap.isOpened():\n",
    "    print(\"Could not open webcam\")\n",
    "    exit()\n",
    "\n",
    "while cap.isOpened():\n",
    "    ret, frame = cap.read()\n",
    "    if not ret:\n",
    "        break\n",
    "    test_frame=frame.copy()\n",
    "    test_frame=cv2.resize(test_frame,dsize=(540,960))\n",
    "    boxes,prob,points=mtcnn.detect(test_frame,landmarks=True)\n",
    "    \n",
    "    frame_draw =test_frame.copy()\n",
    "    \n",
    "    if boxes is None:\n",
    "        print(\"얼굴 인식에 실패하였습니다\")\n",
    "        continue\n",
    "        \n",
    "    boxes=boxes.astype(int)\n",
    "    points=points.astype(int)\n",
    "\n",
    "    max_box=prob.argmax()\n",
    "    crop_frame=frame_draw[boxes[max_box][1]:boxes[max_box][3],boxes[max_box][0]:boxes[max_box][2]]\n",
    "    \n",
    "    \n",
    "    ly = (points[0][3][1]+points[0][3][1])//2\n",
    "    y = boxes[max_box][3]-boxes[max_box][1]\n",
    "    x = boxes[max_box][2]-boxes[max_box][0]\n",
    "    \n",
    "    lip = frame_draw[ly-y//8:ly+y//8, points[0][3][0]-x//10:points[0][4][0]+x//10]\n",
    "\n",
    "\n",
    "    lip=cv2.resize(lip,dsize=(96,96))\n",
    "    \n",
    "    if ret:\n",
    "        \n",
    "        cv2.imshow(\"test\", frame)\n",
    "        cv2.imshow('crop_face',crop_frame)\n",
    "        out.write(lip)\n",
    "        cv2.imshow('lip',lip)\n",
    "\n",
    "    if cv2.waitKey(1) & 0xFF == ord('q'):\n",
    "        break\n",
    "\n",
    "cap.release()\n",
    "out.release()\n",
    "cv2.destroyAllWindows()"
   ]
  }
 ],
 "metadata": {
  "kernelspec": {
   "display_name": "Python 3 (ipykernel)",
   "language": "python",
   "name": "python3"
  },
  "language_info": {
   "codemirror_mode": {
    "name": "ipython",
    "version": 3
   },
   "file_extension": ".py",
   "mimetype": "text/x-python",
   "name": "python",
   "nbconvert_exporter": "python",
   "pygments_lexer": "ipython3",
   "version": "3.11.3"
  }
 },
 "nbformat": 4,
 "nbformat_minor": 4
}
