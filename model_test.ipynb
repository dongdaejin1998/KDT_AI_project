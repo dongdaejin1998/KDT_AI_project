{
 "cells": [
  {
   "cell_type": "code",
   "execution_count": 42,
   "metadata": {},
   "outputs": [
    {
     "name": "stdout",
     "output_type": "stream",
     "text": [
      "C:\\Users\\user\\AppData\\Local\\Temp\\ipykernel_18372\\..\n"
     ]
    }
   ],
   "source": [
    "import os\n",
    "import inspect\n",
    "import sys\n",
    "# 현재 스크립트(main.py)의 파일 경로를 가져옴\n",
    "current_file = inspect.getframeinfo(inspect.currentframe()).filename\n",
    "\n",
    "# 현재 스크립트(main.py)의 디렉토리 경로를 가져옴\n",
    "current_dir = os.path.dirname(os.path.abspath(current_file))\n",
    "\n",
    "# 상위 폴더의 경로를 계산하여 sys.path에 추가\n",
    "parent_dir = os.path.join(current_dir, \"..\")\n",
    "sys.path.append(parent_dir)"
   ]
  },
  {
   "cell_type": "code",
   "execution_count": 41,
   "metadata": {},
   "outputs": [
    {
     "ename": "ImportError",
     "evalue": "cannot import name 'hi' from 'model' (d:\\github\\5th-proj\\Dongkyu\\model.py)",
     "output_type": "error",
     "traceback": [
      "\u001b[1;31m---------------------------------------------------------------------------\u001b[0m",
      "\u001b[1;31mImportError\u001b[0m                               Traceback (most recent call last)",
      "Cell \u001b[1;32mIn[41], line 1\u001b[0m\n\u001b[1;32m----> 1\u001b[0m \u001b[39mfrom\u001b[39;00m \u001b[39mmodel\u001b[39;00m \u001b[39mimport\u001b[39;00m hi\n\u001b[0;32m      2\u001b[0m \u001b[39mimport\u001b[39;00m \u001b[39mtorch\u001b[39;00m\n",
      "\u001b[1;31mImportError\u001b[0m: cannot import name 'hi' from 'model' (d:\\github\\5th-proj\\Dongkyu\\model.py)"
     ]
    }
   ],
   "source": [
    "from model import hi\n",
    "import torch"
   ]
  },
  {
   "cell_type": "code",
   "execution_count": 21,
   "metadata": {},
   "outputs": [
    {
     "name": "stdout",
     "output_type": "stream",
     "text": [
      "False\n"
     ]
    }
   ],
   "source": [
    "device = torch.device(\"cuda:0\" if torch.cuda.is_available() else \"cpu\") # device object\n",
    "print(torch.cuda.is_available())"
   ]
  },
  {
   "cell_type": "code",
   "execution_count": 31,
   "metadata": {},
   "outputs": [
    {
     "ename": "AttributeError",
     "evalue": "module 'model' has no attribute 'VideoModel'",
     "output_type": "error",
     "traceback": [
      "\u001b[1;31m---------------------------------------------------------------------------\u001b[0m",
      "\u001b[1;31mAttributeError\u001b[0m                            Traceback (most recent call last)",
      "Cell \u001b[1;32mIn[31], line 1\u001b[0m\n\u001b[1;32m----> 1\u001b[0m model\u001b[39m=\u001b[39mmodel\u001b[39m.\u001b[39;49mVideoModel()\n\u001b[0;32m      2\u001b[0m model\u001b[39m.\u001b[39meval()\n\u001b[0;32m      3\u001b[0m model \u001b[39m=\u001b[39m model\u001b[39m.\u001b[39mto(device)\n",
      "\u001b[1;31mAttributeError\u001b[0m: module 'model' has no attribute 'VideoModel'"
     ]
    }
   ],
   "source": [
    "model=model.VideoModel()\n",
    "model.eval()\n",
    "model = model.to(device)"
   ]
  },
  {
   "cell_type": "code",
   "execution_count": null,
   "metadata": {},
   "outputs": [],
   "source": [
    "video_inputs = torch.randn(1, 1, 250, 96, 96) # (B, C, T, H, W)\n",
    "\n",
    "\n",
    "\n",
    "print(f\"input data : {video_inputs.shape}\")\n",
    "video_inputs = video_inputs.to(device)\n",
    "output_data = model(video_inputs)\n",
    "print(f\"output data : {output_data.shape}\")"
   ]
  }
 ],
 "metadata": {
  "kernelspec": {
   "display_name": "programmers",
   "language": "python",
   "name": "python3"
  },
  "language_info": {
   "codemirror_mode": {
    "name": "ipython",
    "version": 3
   },
   "file_extension": ".py",
   "mimetype": "text/x-python",
   "name": "python",
   "nbconvert_exporter": "python",
   "pygments_lexer": "ipython3",
   "version": "3.8.8"
  },
  "orig_nbformat": 4
 },
 "nbformat": 4,
 "nbformat_minor": 2
}
